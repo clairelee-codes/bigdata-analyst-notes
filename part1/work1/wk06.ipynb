{
 "cells": [
  {
   "cell_type": "markdown",
   "id": "4dda9559",
   "metadata": {},
   "source": [
    "## 06. 필터링, 분산"
   ]
  },
  {
   "cell_type": "code",
   "execution_count": 5,
   "id": "977d4b54",
   "metadata": {},
   "outputs": [],
   "source": [
    "import pandas as pd\n",
    "\n",
    "df = pd.read_csv(\"data/type1_data1.csv\")"
   ]
  },
  {
   "cell_type": "markdown",
   "id": "d3812536",
   "metadata": {},
   "source": [
    "1. 'f3'컬럼이 gold이면서 'f2'컬럼이 2인 데이터를 찾으시오.\n",
    "2. 찾은 데이터 중에서 'f1'컬럼의 분산을 구하시오. (반올림 후 소수 돌째 자리까지 계산)"
   ]
  },
  {
   "cell_type": "code",
   "execution_count": 13,
   "id": "870b1d2c",
   "metadata": {},
   "outputs": [
    {
     "data": {
      "text/plain": [
       "235.43"
      ]
     },
     "execution_count": 13,
     "metadata": {},
     "output_type": "execute_result"
    }
   ],
   "source": [
    "cond = (df['f3'] == 'gold') & (df['f2'] ==2)\n",
    "round(df[cond]['f1'].var(),2)\n"
   ]
  }
 ],
 "metadata": {
  "kernelspec": {
   "display_name": "Python 3",
   "language": "python",
   "name": "python3"
  },
  "language_info": {
   "codemirror_mode": {
    "name": "ipython",
    "version": 3
   },
   "file_extension": ".py",
   "mimetype": "text/x-python",
   "name": "python",
   "nbconvert_exporter": "python",
   "pygments_lexer": "ipython3",
   "version": "3.12.0"
  }
 },
 "nbformat": 4,
 "nbformat_minor": 5
}
