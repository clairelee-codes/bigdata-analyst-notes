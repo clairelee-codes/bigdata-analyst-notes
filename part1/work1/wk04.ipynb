{
 "cells": [
  {
   "cell_type": "markdown",
   "id": "4dda9559",
   "metadata": {},
   "source": [
    "## 04. 값 변경, 정렬, 합계"
   ]
  },
  {
   "cell_type": "code",
   "execution_count": 97,
   "id": "977d4b54",
   "metadata": {},
   "outputs": [],
   "source": [
    "import pandas as pd\n",
    "\n",
    "df = pd.read_csv(\"data/type1_data1.csv\")"
   ]
  },
  {
   "cell_type": "markdown",
   "id": "d3812536",
   "metadata": {},
   "source": [
    "1. 'view'컬럼의 결측 데이터를 0으로 대체하시오."
   ]
  },
  {
   "cell_type": "code",
   "execution_count": 98,
   "id": "870b1d2c",
   "metadata": {},
   "outputs": [
    {
     "name": "stdout",
     "output_type": "stream",
     "text": [
      "<class 'pandas.core.frame.DataFrame'>\n",
      "RangeIndex: 120 entries, 0 to 119\n",
      "Data columns (total 10 columns):\n",
      " #   Column      Non-Null Count  Dtype  \n",
      "---  ------      --------------  -----  \n",
      " 0   id          120 non-null    object \n",
      " 1   age         120 non-null    float64\n",
      " 2   city        120 non-null    object \n",
      " 3   f1          89 non-null     float64\n",
      " 4   f2          120 non-null    int64  \n",
      " 5   f3          91 non-null     object \n",
      " 6   f4          120 non-null    object \n",
      " 7   f5          120 non-null    float64\n",
      " 8   subscribed  120 non-null    object \n",
      " 9   views       120 non-null    float64\n",
      "dtypes: float64(4), int64(1), object(5)\n",
      "memory usage: 9.5+ KB\n"
     ]
    }
   ],
   "source": [
    "df['views'].fillna(0,inplace=True)\n",
    "df.info()"
   ]
  },
  {
   "cell_type": "markdown",
   "id": "66a16f38",
   "metadata": {},
   "source": [
    "2. 'views' 컬럼에서 상위 10번째 값을 구하시오.\n",
    "3. 'views' 컬럼에서 상위 10개의 값을 상위 10번째 값으로 대체하시오.\n",
    "4. 'views'컬럼의 전체 합을 정수로 구하시오."
   ]
  },
  {
   "cell_type": "code",
   "execution_count": 103,
   "id": "a0731b69",
   "metadata": {},
   "outputs": [],
   "source": [
    "views = df['views'].sort_values(ascending=False)\n",
    "views10 = views.values[9]\n",
    "cond = df['views'] > views10\n",
    "df[cond] = views10\n"
   ]
  },
  {
   "cell_type": "code",
   "execution_count": 99,
   "id": "5f8c9c86",
   "metadata": {},
   "outputs": [],
   "source": [
    "df = df.sort_values('views',ascending=False)\n",
    "views_min = views.iloc[:10].min()\n",
    "df.iloc[:10,-1] = views_min"
   ]
  },
  {
   "cell_type": "code",
   "execution_count": 105,
   "id": "0c1836f8",
   "metadata": {},
   "outputs": [],
   "source": [
    "value = df['views'].nlargest(10).iloc[-1]\n",
    "df.loc[df['views']>value,'views'] = value"
   ]
  },
  {
   "cell_type": "code",
   "execution_count": 100,
   "id": "eb1a7cfa",
   "metadata": {},
   "outputs": [
    {
     "data": {
      "text/plain": [
       "652812"
      ]
     },
     "execution_count": 100,
     "metadata": {},
     "output_type": "execute_result"
    }
   ],
   "source": [
    "int(df['views'].sum())"
   ]
  }
 ],
 "metadata": {
  "kernelspec": {
   "display_name": "Python 3",
   "language": "python",
   "name": "python3"
  },
  "language_info": {
   "codemirror_mode": {
    "name": "ipython",
    "version": 3
   },
   "file_extension": ".py",
   "mimetype": "text/x-python",
   "name": "python",
   "nbconvert_exporter": "python",
   "pygments_lexer": "ipython3",
   "version": "3.12.0"
  }
 },
 "nbformat": 4,
 "nbformat_minor": 5
}
