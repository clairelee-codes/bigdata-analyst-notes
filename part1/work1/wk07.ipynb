{
 "cells": [
  {
   "cell_type": "markdown",
   "id": "4dda9559",
   "metadata": {},
   "source": [
    "## 07 값 변경(연산), 필터링 절대값"
   ]
  },
  {
   "cell_type": "code",
   "execution_count": 19,
   "id": "977d4b54",
   "metadata": {},
   "outputs": [],
   "source": [
    "import pandas as pd\n",
    "\n",
    "df = pd.read_csv(\"data/type1_data1.csv\")"
   ]
  },
  {
   "cell_type": "markdown",
   "id": "d3812536",
   "metadata": {},
   "source": [
    "1. 모든 나이(age)에 1을 더하시오.\n",
    "2. 20대의 'views'평균과 30대의 'views'평균의 절댓값 차이를 구하시오 (반올림 후 소수 둘째 자리까지 계산)"
   ]
  },
  {
   "cell_type": "code",
   "execution_count": 20,
   "id": "870b1d2c",
   "metadata": {},
   "outputs": [
    {
     "data": {
      "text/plain": [
       "263.13"
      ]
     },
     "execution_count": 20,
     "metadata": {},
     "output_type": "execute_result"
    }
   ],
   "source": [
    "df['age'] += 1\n",
    "cond1 = (df['age'] < 30) & (19 < df['age'])\n",
    "cond2 = (df['age'] < 40) & (29 < df['age'])\n",
    "abs20 = abs(df[cond1]['views'].mean()) \n",
    "abs30 = abs(df[cond2]['views'].mean())\n",
    "round(abs20-abs30,2)"
   ]
  }
 ],
 "metadata": {
  "kernelspec": {
   "display_name": "Python 3",
   "language": "python",
   "name": "python3"
  },
  "language_info": {
   "codemirror_mode": {
    "name": "ipython",
    "version": 3
   },
   "file_extension": ".py",
   "mimetype": "text/x-python",
   "name": "python",
   "nbconvert_exporter": "python",
   "pygments_lexer": "ipython3",
   "version": "3.12.0"
  }
 },
 "nbformat": 4,
 "nbformat_minor": 5
}
