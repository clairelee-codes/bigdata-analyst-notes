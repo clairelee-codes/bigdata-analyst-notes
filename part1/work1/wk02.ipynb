{
 "cells": [
  {
   "cell_type": "markdown",
   "id": "4dda9559",
   "metadata": {},
   "source": [
    "## 02. 카테고리, 인덱스, 문자열 슬라이싱"
   ]
  },
  {
   "cell_type": "code",
   "execution_count": 47,
   "id": "977d4b54",
   "metadata": {},
   "outputs": [],
   "source": [
    "import pandas as pd\n",
    "\n",
    "df = pd.read_csv(\"data/type1_data1.csv\")"
   ]
  },
  {
   "cell_type": "markdown",
   "id": "d3812536",
   "metadata": {},
   "source": [
    "1. 'subscribed'컬럼에서 가장 빈도수가 많은 날짜를 구하시오."
   ]
  },
  {
   "cell_type": "code",
   "execution_count": 48,
   "id": "a0731b69",
   "metadata": {},
   "outputs": [
    {
     "data": {
      "text/plain": [
       "subscribed\n",
       "2025-02-17    16\n",
       "2024-06-21     3\n",
       "2024-04-03     2\n",
       "2024-07-29     2\n",
       "2024-05-28     2\n",
       "              ..\n",
       "2024-07-08     1\n",
       "2024-07-20     1\n",
       "2024-06-10     1\n",
       "2024-02-01     1\n",
       "2024-05-20     1\n",
       "Name: count, Length: 96, dtype: int64"
      ]
     },
     "execution_count": 48,
     "metadata": {},
     "output_type": "execute_result"
    }
   ],
   "source": [
    "df=df['subscribed'].value_counts()\n",
    "df"
   ]
  },
  {
   "cell_type": "code",
   "execution_count": 53,
   "id": "8964d930",
   "metadata": {},
   "outputs": [
    {
     "data": {
      "text/plain": [
       "'2025-02-17'"
      ]
     },
     "execution_count": 53,
     "metadata": {},
     "output_type": "execute_result"
    }
   ],
   "source": [
    "date = df.idxmax()\n",
    "date"
   ]
  },
  {
   "cell_type": "markdown",
   "id": "48422f34",
   "metadata": {},
   "source": [
    "2. 앞에서 구한 날짜의 일(day) 값을 정수로 구하시오."
   ]
  },
  {
   "cell_type": "code",
   "execution_count": 64,
   "id": "8b0db8d8",
   "metadata": {},
   "outputs": [
    {
     "data": {
      "text/plain": [
       "17"
      ]
     },
     "execution_count": 64,
     "metadata": {},
     "output_type": "execute_result"
    }
   ],
   "source": [
    "int(date[-2:])"
   ]
  },
  {
   "cell_type": "code",
   "execution_count": 65,
   "id": "d7a51502",
   "metadata": {},
   "outputs": [
    {
     "data": {
      "text/plain": [
       "17"
      ]
     },
     "execution_count": 65,
     "metadata": {},
     "output_type": "execute_result"
    }
   ],
   "source": [
    "int(df.index[0][-2:])"
   ]
  }
 ],
 "metadata": {
  "kernelspec": {
   "display_name": "Python 3",
   "language": "python",
   "name": "python3"
  },
  "language_info": {
   "codemirror_mode": {
    "name": "ipython",
    "version": 3
   },
   "file_extension": ".py",
   "mimetype": "text/x-python",
   "name": "python",
   "nbconvert_exporter": "python",
   "pygments_lexer": "ipython3",
   "version": "3.12.0"
  }
 },
 "nbformat": 4,
 "nbformat_minor": 5
}
