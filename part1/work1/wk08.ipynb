{
 "cells": [
  {
   "cell_type": "markdown",
   "id": "4dda9559",
   "metadata": {},
   "source": [
    "## 08 시계열 데이터, 필터링, 데이터 개수"
   ]
  },
  {
   "cell_type": "code",
   "execution_count": 16,
   "id": "977d4b54",
   "metadata": {},
   "outputs": [],
   "source": [
    "import pandas as pd\n",
    "\n",
    "df = pd.read_csv(\"data/type1_data1.csv\")"
   ]
  },
  {
   "cell_type": "markdown",
   "id": "d3812536",
   "metadata": {},
   "source": [
    "1. 'subscribed'컬럼이 2024년 2월인 데이터로 찾으시오.\n",
    "2. 위에서 찾은 데이터중 'f3' 컬럼이 gold인 데이터의 개수를 구하시오."
   ]
  },
  {
   "cell_type": "code",
   "execution_count": 6,
   "id": "870b1d2c",
   "metadata": {},
   "outputs": [
    {
     "data": {
      "text/plain": [
       "5"
      ]
     },
     "execution_count": 6,
     "metadata": {},
     "output_type": "execute_result"
    }
   ],
   "source": [
    "cond = df['subscribed'].str.contains('2024-02')\n",
    "(df[cond]['f3'] == 'gold').sum()"
   ]
  },
  {
   "cell_type": "code",
   "execution_count": 17,
   "id": "2dfb015c",
   "metadata": {},
   "outputs": [
    {
     "data": {
      "text/plain": [
       "5"
      ]
     },
     "execution_count": 17,
     "metadata": {},
     "output_type": "execute_result"
    }
   ],
   "source": [
    "df['subscribed']=pd.to_datetime(df['subscribed'])\n",
    "df['year'] = df['subscribed'].dt.year\n",
    "df['month'] = df['subscribed'].dt.month\n",
    "cond1=df['year'] == 2024\n",
    "cond2=df['month'] == 2\n",
    "cond3=df['f3'] == 'gold'\n",
    "df=df[cond1&cond2&cond3]\n",
    "len(df)"
   ]
  }
 ],
 "metadata": {
  "kernelspec": {
   "display_name": "Python 3",
   "language": "python",
   "name": "python3"
  },
  "language_info": {
   "codemirror_mode": {
    "name": "ipython",
    "version": 3
   },
   "file_extension": ".py",
   "mimetype": "text/x-python",
   "name": "python",
   "nbconvert_exporter": "python",
   "pygments_lexer": "ipython3",
   "version": "3.12.0"
  }
 },
 "nbformat": 4,
 "nbformat_minor": 5
}
