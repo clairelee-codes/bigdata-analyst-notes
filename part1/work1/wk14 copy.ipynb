{
 "cells": [
  {
   "cell_type": "markdown",
   "id": "4dda9559",
   "metadata": {},
   "source": [
    "## 15. 컬럼 삭제, 행 단위 합계, 필터링"
   ]
  },
  {
   "cell_type": "code",
   "execution_count": 28,
   "id": "977d4b54",
   "metadata": {},
   "outputs": [],
   "source": [
    "import pandas as pd\n",
    "\n",
    "df = pd.read_csv(\"data/type1_data1.csv\")"
   ]
  },
  {
   "cell_type": "markdown",
   "id": "d3812536",
   "metadata": {},
   "source": [
    "1. 주어진 데이터에서 문자 자료형 컬럼을 삭제하시오.\n",
    "2. 숫자 자료형 컬럼의 결측치를 0으로 대체하시오.\n",
    "3. 각 행의 합이 30000보다 큰 값의 개수를 정수로 구하시오 (각 행의 합: 'age' + 'f1+ 'f2' + 'f5' + 'views')"
   ]
  },
  {
   "cell_type": "code",
   "execution_count": 29,
   "id": "870b1d2c",
   "metadata": {},
   "outputs": [],
   "source": [
    "cols = df.select_dtypes(exclude='object').columns\n",
    "df = df[cols]"
   ]
  },
  {
   "cell_type": "code",
   "execution_count": 30,
   "id": "2f3f9fac",
   "metadata": {},
   "outputs": [],
   "source": [
    "df.fillna(0,inplace=True)"
   ]
  },
  {
   "cell_type": "code",
   "execution_count": 31,
   "id": "2db1faed",
   "metadata": {},
   "outputs": [
    {
     "data": {
      "text/plain": [
       "88"
      ]
     },
     "execution_count": 31,
     "metadata": {},
     "output_type": "execute_result"
    }
   ],
   "source": [
    "df = df.T\n",
    "sum(df.sum() > 3000)"
   ]
  },
  {
   "cell_type": "code",
   "execution_count": null,
   "id": "55f886b1",
   "metadata": {},
   "outputs": [],
   "source": []
  }
 ],
 "metadata": {
  "kernelspec": {
   "display_name": "Python 3",
   "language": "python",
   "name": "python3"
  },
  "language_info": {
   "codemirror_mode": {
    "name": "ipython",
    "version": 3
   },
   "file_extension": ".py",
   "mimetype": "text/x-python",
   "name": "python",
   "nbconvert_exporter": "python",
   "pygments_lexer": "ipython3",
   "version": "3.12.0"
  }
 },
 "nbformat": 4,
 "nbformat_minor": 5
}
