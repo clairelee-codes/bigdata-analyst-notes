{
 "cells": [
  {
   "cell_type": "markdown",
   "id": "4dda9559",
   "metadata": {},
   "source": [
    "## 20. 시계열 데이터, 월별 집계, 인덱스"
   ]
  },
  {
   "cell_type": "code",
   "execution_count": 36,
   "id": "977d4b54",
   "metadata": {},
   "outputs": [
    {
     "data": {
      "text/html": [
       "<div>\n",
       "<style scoped>\n",
       "    .dataframe tbody tr th:only-of-type {\n",
       "        vertical-align: middle;\n",
       "    }\n",
       "\n",
       "    .dataframe tbody tr th {\n",
       "        vertical-align: top;\n",
       "    }\n",
       "\n",
       "    .dataframe thead th {\n",
       "        text-align: right;\n",
       "    }\n",
       "</style>\n",
       "<table border=\"1\" class=\"dataframe\">\n",
       "  <thead>\n",
       "    <tr style=\"text-align: right;\">\n",
       "      <th></th>\n",
       "      <th>id</th>\n",
       "      <th>age</th>\n",
       "      <th>city</th>\n",
       "      <th>f1</th>\n",
       "      <th>f2</th>\n",
       "      <th>f3</th>\n",
       "      <th>f4</th>\n",
       "      <th>f5</th>\n",
       "      <th>subscribed</th>\n",
       "      <th>views</th>\n",
       "    </tr>\n",
       "  </thead>\n",
       "  <tbody>\n",
       "    <tr>\n",
       "      <th>0</th>\n",
       "      <td>id01</td>\n",
       "      <td>2.0</td>\n",
       "      <td>서울</td>\n",
       "      <td>NaN</td>\n",
       "      <td>0</td>\n",
       "      <td>gold</td>\n",
       "      <td>ENFJ</td>\n",
       "      <td>91.297791</td>\n",
       "      <td>2024-07-16</td>\n",
       "      <td>6820.0</td>\n",
       "    </tr>\n",
       "    <tr>\n",
       "      <th>1</th>\n",
       "      <td>id02</td>\n",
       "      <td>9.0</td>\n",
       "      <td>서울</td>\n",
       "      <td>70.0</td>\n",
       "      <td>1</td>\n",
       "      <td>NaN</td>\n",
       "      <td>ENFJ</td>\n",
       "      <td>60.339826</td>\n",
       "      <td>2024-05-12</td>\n",
       "      <td>2534.0</td>\n",
       "    </tr>\n",
       "    <tr>\n",
       "      <th>2</th>\n",
       "      <td>id03</td>\n",
       "      <td>27.0</td>\n",
       "      <td>서울</td>\n",
       "      <td>61.0</td>\n",
       "      <td>1</td>\n",
       "      <td>gold</td>\n",
       "      <td>ISTJ</td>\n",
       "      <td>17.252986</td>\n",
       "      <td>2024-03-16</td>\n",
       "      <td>7312.0</td>\n",
       "    </tr>\n",
       "    <tr>\n",
       "      <th>3</th>\n",
       "      <td>id04</td>\n",
       "      <td>75.0</td>\n",
       "      <td>서울</td>\n",
       "      <td>NaN</td>\n",
       "      <td>2</td>\n",
       "      <td>NaN</td>\n",
       "      <td>INFP</td>\n",
       "      <td>52.667078</td>\n",
       "      <td>2024-07-21</td>\n",
       "      <td>493.0</td>\n",
       "    </tr>\n",
       "    <tr>\n",
       "      <th>4</th>\n",
       "      <td>id05</td>\n",
       "      <td>24.0</td>\n",
       "      <td>서울</td>\n",
       "      <td>85.0</td>\n",
       "      <td>2</td>\n",
       "      <td>NaN</td>\n",
       "      <td>ISFJ</td>\n",
       "      <td>29.269869</td>\n",
       "      <td>2024-03-07</td>\n",
       "      <td>1338.0</td>\n",
       "    </tr>\n",
       "  </tbody>\n",
       "</table>\n",
       "</div>"
      ],
      "text/plain": [
       "     id   age city    f1  f2    f3    f4         f5  subscribed   views\n",
       "0  id01   2.0   서울   NaN   0  gold  ENFJ  91.297791  2024-07-16  6820.0\n",
       "1  id02   9.0   서울  70.0   1   NaN  ENFJ  60.339826  2024-05-12  2534.0\n",
       "2  id03  27.0   서울  61.0   1  gold  ISTJ  17.252986  2024-03-16  7312.0\n",
       "3  id04  75.0   서울   NaN   2   NaN  INFP  52.667078  2024-07-21   493.0\n",
       "4  id05  24.0   서울  85.0   2   NaN  ISFJ  29.269869  2024-03-07  1338.0"
      ]
     },
     "execution_count": 36,
     "metadata": {},
     "output_type": "execute_result"
    }
   ],
   "source": [
    "import pandas as pd\n",
    "\n",
    "df = pd.read_csv(\"data/type1_data1.csv\")\n",
    "df.head()"
   ]
  },
  {
   "cell_type": "markdown",
   "id": "d3812536",
   "metadata": {},
   "source": [
    "1. 연도 구분 없이 월별로 숫자형 컬럼의 합을 구하시오.\n",
    "2. 합계 중 'views'가 가장 작은 값을 가진 월을 정수로 구하시오"
   ]
  },
  {
   "cell_type": "code",
   "execution_count": 37,
   "id": "870b1d2c",
   "metadata": {},
   "outputs": [
    {
     "data": {
      "text/plain": [
       "2"
      ]
     },
     "execution_count": 37,
     "metadata": {},
     "output_type": "execute_result"
    }
   ],
   "source": [
    "df['subscribed'] = pd.to_datetime(df['subscribed'])\n",
    "df['month'] =df['subscribed'].dt.month\n",
    "df=df.groupby('month').sum(numeric_only=True)\n",
    "df.sort_values(['views'], ascending=False).index[0]"
   ]
  }
 ],
 "metadata": {
  "kernelspec": {
   "display_name": "Python 3",
   "language": "python",
   "name": "python3"
  },
  "language_info": {
   "codemirror_mode": {
    "name": "ipython",
    "version": 3
   },
   "file_extension": ".py",
   "mimetype": "text/x-python",
   "name": "python",
   "nbconvert_exporter": "python",
   "pygments_lexer": "ipython3",
   "version": "3.12.0"
  }
 },
 "nbformat": 4,
 "nbformat_minor": 5
}
