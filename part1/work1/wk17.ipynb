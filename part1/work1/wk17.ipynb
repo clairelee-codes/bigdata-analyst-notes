{
 "cells": [
  {
   "cell_type": "markdown",
   "id": "4dda9559",
   "metadata": {},
   "source": [
    "## 17. 이상치, 소수점 있는 데이터 찾기, 표준편차"
   ]
  },
  {
   "cell_type": "code",
   "execution_count": 26,
   "id": "977d4b54",
   "metadata": {},
   "outputs": [],
   "source": [
    "import pandas as pd\n",
    "\n",
    "df = pd.read_csv(\"data/type1_data1.csv\")"
   ]
  },
  {
   "cell_type": "markdown",
   "id": "d3812536",
   "metadata": {},
   "source": [
    "1. 'views'컬럼의 표준편차를 구하시오.\n",
    "2. 'age'컬럼의 이상치(소수점 나이, 음수 나이, 0살)를 제거하고, 'views'컬럼의 표준편차를 구하시오.\n",
    "3. 이상치 제거 전후의 'views'컬럼의 표준편차를 더하여, 반올림 후 소수 둘째 자리까지 구하시오."
   ]
  },
  {
   "cell_type": "code",
   "execution_count": 27,
   "id": "870b1d2c",
   "metadata": {},
   "outputs": [],
   "source": [
    "std1 = df['views'].std()"
   ]
  },
  {
   "cell_type": "code",
   "execution_count": 28,
   "id": "2f3f9fac",
   "metadata": {},
   "outputs": [],
   "source": [
    "df = df[df['age'] > 0]\n",
    "df = df[df['age'] == round(df['age'],0)]\n",
    "std2 = df['views'].std()"
   ]
  },
  {
   "cell_type": "code",
   "execution_count": 29,
   "id": "2db1faed",
   "metadata": {},
   "outputs": [
    {
     "data": {
      "text/plain": [
       "np.float64(8297.31)"
      ]
     },
     "execution_count": 29,
     "metadata": {},
     "output_type": "execute_result"
    }
   ],
   "source": [
    "round(std1+std2,2)"
   ]
  }
 ],
 "metadata": {
  "kernelspec": {
   "display_name": ".venv",
   "language": "python",
   "name": "python3"
  },
  "language_info": {
   "codemirror_mode": {
    "name": "ipython",
    "version": 3
   },
   "file_extension": ".py",
   "mimetype": "text/x-python",
   "name": "python",
   "nbconvert_exporter": "python",
   "pygments_lexer": "ipython3",
   "version": "3.13.3"
  }
 },
 "nbformat": 4,
 "nbformat_minor": 5
}
