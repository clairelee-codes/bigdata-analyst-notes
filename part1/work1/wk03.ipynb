{
 "cells": [
  {
   "cell_type": "markdown",
   "id": "4dda9559",
   "metadata": {},
   "source": [
    "## 03. 파생변수, 정렬, 인덱싱"
   ]
  },
  {
   "cell_type": "code",
   "execution_count": 11,
   "id": "977d4b54",
   "metadata": {},
   "outputs": [],
   "source": [
    "import pandas as pd\n",
    "\n",
    "df = pd.read_csv(\"data/type1_data1.csv\")"
   ]
  },
  {
   "cell_type": "markdown",
   "id": "d3812536",
   "metadata": {},
   "source": [
    "1. 결측치가 있는 데이터(행)을 제거하시오."
   ]
  },
  {
   "cell_type": "code",
   "execution_count": 13,
   "id": "870b1d2c",
   "metadata": {},
   "outputs": [
    {
     "name": "stdout",
     "output_type": "stream",
     "text": [
      "<class 'pandas.core.frame.DataFrame'>\n",
      "RangeIndex: 120 entries, 0 to 119\n",
      "Data columns (total 10 columns):\n",
      " #   Column      Non-Null Count  Dtype  \n",
      "---  ------      --------------  -----  \n",
      " 0   id          120 non-null    object \n",
      " 1   age         120 non-null    float64\n",
      " 2   city        120 non-null    object \n",
      " 3   f1          89 non-null     float64\n",
      " 4   f2          120 non-null    int64  \n",
      " 5   f3          91 non-null     object \n",
      " 6   f4          120 non-null    object \n",
      " 7   f5          120 non-null    float64\n",
      " 8   subscribed  120 non-null    object \n",
      " 9   views       116 non-null    float64\n",
      "dtypes: float64(4), int64(1), object(5)\n",
      "memory usage: 9.5+ KB\n"
     ]
    }
   ],
   "source": [
    "df.info()"
   ]
  },
  {
   "cell_type": "code",
   "execution_count": 16,
   "id": "a0731b69",
   "metadata": {},
   "outputs": [
    {
     "name": "stdout",
     "output_type": "stream",
     "text": [
      "<class 'pandas.core.frame.DataFrame'>\n",
      "Index: 70 entries, 2 to 119\n",
      "Data columns (total 10 columns):\n",
      " #   Column      Non-Null Count  Dtype  \n",
      "---  ------      --------------  -----  \n",
      " 0   id          70 non-null     object \n",
      " 1   age         70 non-null     float64\n",
      " 2   city        70 non-null     object \n",
      " 3   f1          70 non-null     float64\n",
      " 4   f2          70 non-null     int64  \n",
      " 5   f3          70 non-null     object \n",
      " 6   f4          70 non-null     object \n",
      " 7   f5          70 non-null     float64\n",
      " 8   subscribed  70 non-null     object \n",
      " 9   views       70 non-null     float64\n",
      "dtypes: float64(4), int64(1), object(5)\n",
      "memory usage: 6.0+ KB\n"
     ]
    }
   ],
   "source": [
    "df.dropna(inplace=True)\n",
    "df.info()"
   ]
  },
  {
   "cell_type": "markdown",
   "id": "48422f34",
   "metadata": {},
   "source": [
    "2. 'views'컬럼을 'f1'컬럼으로 나누 값을 새로운 컬럼으로 추가하시오."
   ]
  },
  {
   "cell_type": "code",
   "execution_count": 18,
   "id": "8964d930",
   "metadata": {},
   "outputs": [
    {
     "data": {
      "text/html": [
       "<div>\n",
       "<style scoped>\n",
       "    .dataframe tbody tr th:only-of-type {\n",
       "        vertical-align: middle;\n",
       "    }\n",
       "\n",
       "    .dataframe tbody tr th {\n",
       "        vertical-align: top;\n",
       "    }\n",
       "\n",
       "    .dataframe thead th {\n",
       "        text-align: right;\n",
       "    }\n",
       "</style>\n",
       "<table border=\"1\" class=\"dataframe\">\n",
       "  <thead>\n",
       "    <tr style=\"text-align: right;\">\n",
       "      <th></th>\n",
       "      <th>id</th>\n",
       "      <th>age</th>\n",
       "      <th>city</th>\n",
       "      <th>f1</th>\n",
       "      <th>f2</th>\n",
       "      <th>f3</th>\n",
       "      <th>f4</th>\n",
       "      <th>f5</th>\n",
       "      <th>subscribed</th>\n",
       "      <th>views</th>\n",
       "      <th>new</th>\n",
       "    </tr>\n",
       "  </thead>\n",
       "  <tbody>\n",
       "    <tr>\n",
       "      <th>2</th>\n",
       "      <td>id03</td>\n",
       "      <td>27.0</td>\n",
       "      <td>서울</td>\n",
       "      <td>61.0</td>\n",
       "      <td>1</td>\n",
       "      <td>gold</td>\n",
       "      <td>ISTJ</td>\n",
       "      <td>17.252986</td>\n",
       "      <td>2024-03-16</td>\n",
       "      <td>7312.0</td>\n",
       "      <td>119.868852</td>\n",
       "    </tr>\n",
       "    <tr>\n",
       "      <th>5</th>\n",
       "      <td>id06</td>\n",
       "      <td>22.0</td>\n",
       "      <td>서울</td>\n",
       "      <td>57.0</td>\n",
       "      <td>0</td>\n",
       "      <td>vip</td>\n",
       "      <td>INTP</td>\n",
       "      <td>20.129444</td>\n",
       "      <td>2024-09-12</td>\n",
       "      <td>21550.0</td>\n",
       "      <td>378.070175</td>\n",
       "    </tr>\n",
       "    <tr>\n",
       "      <th>7</th>\n",
       "      <td>id08</td>\n",
       "      <td>38.0</td>\n",
       "      <td>서울</td>\n",
       "      <td>101.0</td>\n",
       "      <td>1</td>\n",
       "      <td>silver</td>\n",
       "      <td>INFJ</td>\n",
       "      <td>83.685380</td>\n",
       "      <td>2024-03-06</td>\n",
       "      <td>3260.0</td>\n",
       "      <td>32.277228</td>\n",
       "    </tr>\n",
       "    <tr>\n",
       "      <th>9</th>\n",
       "      <td>id10</td>\n",
       "      <td>95.0</td>\n",
       "      <td>서울</td>\n",
       "      <td>74.0</td>\n",
       "      <td>1</td>\n",
       "      <td>gold</td>\n",
       "      <td>ISFP</td>\n",
       "      <td>98.429899</td>\n",
       "      <td>2024-04-03</td>\n",
       "      <td>9992.0</td>\n",
       "      <td>135.027027</td>\n",
       "    </tr>\n",
       "    <tr>\n",
       "      <th>10</th>\n",
       "      <td>id100</td>\n",
       "      <td>47.0</td>\n",
       "      <td>경기</td>\n",
       "      <td>53.0</td>\n",
       "      <td>0</td>\n",
       "      <td>vip</td>\n",
       "      <td>ESFP</td>\n",
       "      <td>33.308999</td>\n",
       "      <td>2024-02-21</td>\n",
       "      <td>15535.0</td>\n",
       "      <td>293.113208</td>\n",
       "    </tr>\n",
       "  </tbody>\n",
       "</table>\n",
       "</div>"
      ],
      "text/plain": [
       "       id   age city     f1  f2      f3    f4         f5  subscribed    views  \\\n",
       "2    id03  27.0   서울   61.0   1    gold  ISTJ  17.252986  2024-03-16   7312.0   \n",
       "5    id06  22.0   서울   57.0   0     vip  INTP  20.129444  2024-09-12  21550.0   \n",
       "7    id08  38.0   서울  101.0   1  silver  INFJ  83.685380  2024-03-06   3260.0   \n",
       "9    id10  95.0   서울   74.0   1    gold  ISFP  98.429899  2024-04-03   9992.0   \n",
       "10  id100  47.0   경기   53.0   0     vip  ESFP  33.308999  2024-02-21  15535.0   \n",
       "\n",
       "           new  \n",
       "2   119.868852  \n",
       "5   378.070175  \n",
       "7    32.277228  \n",
       "9   135.027027  \n",
       "10  293.113208  "
      ]
     },
     "execution_count": 18,
     "metadata": {},
     "output_type": "execute_result"
    }
   ],
   "source": [
    "df.head()\n",
    "df['new']=df['views']/df['f1']\n",
    "df.head()"
   ]
  },
  {
   "cell_type": "markdown",
   "id": "82f16cec",
   "metadata": {},
   "source": [
    "3. 새로운 컬럼 값 중 가장 큰값을 가진 행의 age를 정수로 구하시오."
   ]
  },
  {
   "cell_type": "code",
   "execution_count": 36,
   "id": "8b0db8d8",
   "metadata": {},
   "outputs": [
    {
     "data": {
      "text/plain": [
       "22"
      ]
     },
     "execution_count": 36,
     "metadata": {},
     "output_type": "execute_result"
    }
   ],
   "source": [
    "age = df.loc[df['new'].idxmax(),'age']\n",
    "int(age)"
   ]
  },
  {
   "cell_type": "code",
   "execution_count": 46,
   "id": "6fe8a6bb",
   "metadata": {},
   "outputs": [
    {
     "data": {
      "text/plain": [
       "22"
      ]
     },
     "execution_count": 46,
     "metadata": {},
     "output_type": "execute_result"
    }
   ],
   "source": [
    "df.sort_values('new',ascending=False,inplace=True)\n",
    "int(df.iloc[0,1])\n"
   ]
  }
 ],
 "metadata": {
  "kernelspec": {
   "display_name": "Python 3",
   "language": "python",
   "name": "python3"
  },
  "language_info": {
   "codemirror_mode": {
    "name": "ipython",
    "version": 3
   },
   "file_extension": ".py",
   "mimetype": "text/x-python",
   "name": "python",
   "nbconvert_exporter": "python",
   "pygments_lexer": "ipython3",
   "version": "3.12.0"
  }
 },
 "nbformat": 4,
 "nbformat_minor": 5
}
