{
 "cells": [
  {
   "cell_type": "markdown",
   "id": "4dda9559",
   "metadata": {},
   "source": [
    "## 14. 중복 데이터 제거, 값 변경, 데이터 개수"
   ]
  },
  {
   "cell_type": "code",
   "execution_count": 1,
   "id": "977d4b54",
   "metadata": {},
   "outputs": [],
   "source": [
    "import pandas as pd\n",
    "\n",
    "df = pd.read_csv(\"data/type1_data1.csv\")"
   ]
  },
  {
   "cell_type": "markdown",
   "id": "d3812536",
   "metadata": {},
   "source": [
    "1. 중복 데이터를 제거하시오.\n",
    "2. 'f3컬럼의 결측치는 0, 'silver'는 1, 'gold'는 2, 'vip'는 3으로 변환하시오.\n",
    "3. 변환된 'f3' 컬럼의 총합을 정수형으로 구하시오."
   ]
  },
  {
   "cell_type": "code",
   "execution_count": 12,
   "id": "870b1d2c",
   "metadata": {},
   "outputs": [],
   "source": [
    "df.drop_duplicates(inplace=True)"
   ]
  },
  {
   "cell_type": "code",
   "execution_count": 13,
   "id": "2f3f9fac",
   "metadata": {},
   "outputs": [
    {
     "data": {
      "text/plain": [
       "167"
      ]
     },
     "execution_count": 13,
     "metadata": {},
     "output_type": "execute_result"
    }
   ],
   "source": [
    "df['f3'].fillna(0,inplace=True)\n",
    "cond1 = sum(df['f3'] =='silver')\n",
    "cond2 = sum(df['f3'] =='gold')*2\n",
    "cond3 = sum(df['f3'] =='vip')*3\n",
    "cond1+cond2+cond3"
   ]
  },
  {
   "cell_type": "code",
   "execution_count": 15,
   "id": "2db1faed",
   "metadata": {},
   "outputs": [
    {
     "data": {
      "text/plain": [
       "167"
      ]
     },
     "execution_count": 15,
     "metadata": {},
     "output_type": "execute_result"
    }
   ],
   "source": [
    "import numpy as np\n",
    "\n",
    "df['f3'] = df['f3'].replace(np.nan,0).replace('silver',1).replace('gold',2).replace('vip',3)\n",
    "int(df['f3'].sum())"
   ]
  }
 ],
 "metadata": {
  "kernelspec": {
   "display_name": "Python 3",
   "language": "python",
   "name": "python3"
  },
  "language_info": {
   "codemirror_mode": {
    "name": "ipython",
    "version": 3
   },
   "file_extension": ".py",
   "mimetype": "text/x-python",
   "name": "python",
   "nbconvert_exporter": "python",
   "pygments_lexer": "ipython3",
   "version": "3.12.0"
  }
 },
 "nbformat": 4,
 "nbformat_minor": 5
}
