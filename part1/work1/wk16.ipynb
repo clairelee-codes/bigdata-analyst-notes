{
 "cells": [
  {
   "cell_type": "markdown",
   "id": "4dda9559",
   "metadata": {},
   "source": [
    "## 16. 이상치, IQR"
   ]
  },
  {
   "cell_type": "code",
   "execution_count": 1,
   "id": "977d4b54",
   "metadata": {},
   "outputs": [],
   "source": [
    "import pandas as pd\n",
    "\n",
    "df = pd.read_csv(\"data/type1_data1.csv\")"
   ]
  },
  {
   "cell_type": "markdown",
   "id": "d3812536",
   "metadata": {},
   "source": [
    "1. 'views'컬럼의 1사분위수, 3사분위수 그리고 IQR을 계산하시오.\n",
    "2. 이상치 조건에 맞는 데이터를 찾으시오. (이상치는 1사분위수 - (IQR * 1.5)보다 작은 값과 3사분위수 + (IQR*1.5)보다 큰 값)\n",
    "3. 이상치 데이터의 'views'컬럼 합을 정수로 구하시오."
   ]
  },
  {
   "cell_type": "code",
   "execution_count": 13,
   "id": "870b1d2c",
   "metadata": {},
   "outputs": [],
   "source": [
    "q3 = df['views'].quantile(.75)\n",
    "q1 = df['views'].quantile(.25)\n",
    "IQR = q3-q1"
   ]
  },
  {
   "cell_type": "code",
   "execution_count": 17,
   "id": "2f3f9fac",
   "metadata": {},
   "outputs": [
    {
     "data": {
      "text/html": [
       "<div>\n",
       "<style scoped>\n",
       "    .dataframe tbody tr th:only-of-type {\n",
       "        vertical-align: middle;\n",
       "    }\n",
       "\n",
       "    .dataframe tbody tr th {\n",
       "        vertical-align: top;\n",
       "    }\n",
       "\n",
       "    .dataframe thead th {\n",
       "        text-align: right;\n",
       "    }\n",
       "</style>\n",
       "<table border=\"1\" class=\"dataframe\">\n",
       "  <thead>\n",
       "    <tr style=\"text-align: right;\">\n",
       "      <th></th>\n",
       "      <th>id</th>\n",
       "      <th>age</th>\n",
       "      <th>city</th>\n",
       "      <th>f1</th>\n",
       "      <th>f2</th>\n",
       "      <th>f3</th>\n",
       "      <th>f4</th>\n",
       "      <th>f5</th>\n",
       "      <th>subscribed</th>\n",
       "      <th>views</th>\n",
       "    </tr>\n",
       "  </thead>\n",
       "  <tbody>\n",
       "    <tr>\n",
       "      <th>5</th>\n",
       "      <td>id06</td>\n",
       "      <td>22.0</td>\n",
       "      <td>서울</td>\n",
       "      <td>57.0</td>\n",
       "      <td>0</td>\n",
       "      <td>vip</td>\n",
       "      <td>INTP</td>\n",
       "      <td>20.129444</td>\n",
       "      <td>2024-09-12</td>\n",
       "      <td>21550.0</td>\n",
       "    </tr>\n",
       "    <tr>\n",
       "      <th>32</th>\n",
       "      <td>id32</td>\n",
       "      <td>25.0</td>\n",
       "      <td>부산</td>\n",
       "      <td>64.0</td>\n",
       "      <td>0</td>\n",
       "      <td>vip</td>\n",
       "      <td>ISFJ</td>\n",
       "      <td>13.049921</td>\n",
       "      <td>2024-05-24</td>\n",
       "      <td>17421.0</td>\n",
       "    </tr>\n",
       "    <tr>\n",
       "      <th>56</th>\n",
       "      <td>id56</td>\n",
       "      <td>59.0</td>\n",
       "      <td>대구</td>\n",
       "      <td>NaN</td>\n",
       "      <td>1</td>\n",
       "      <td>vip</td>\n",
       "      <td>ESTJ</td>\n",
       "      <td>73.586397</td>\n",
       "      <td>2024-04-05</td>\n",
       "      <td>19589.0</td>\n",
       "    </tr>\n",
       "    <tr>\n",
       "      <th>83</th>\n",
       "      <td>id83</td>\n",
       "      <td>73.0</td>\n",
       "      <td>경기</td>\n",
       "      <td>50.0</td>\n",
       "      <td>1</td>\n",
       "      <td>vip</td>\n",
       "      <td>ENTP</td>\n",
       "      <td>80.138280</td>\n",
       "      <td>2024-09-26</td>\n",
       "      <td>19139.0</td>\n",
       "    </tr>\n",
       "  </tbody>\n",
       "</table>\n",
       "</div>"
      ],
      "text/plain": [
       "      id   age city    f1  f2   f3    f4         f5  subscribed    views\n",
       "5   id06  22.0   서울  57.0   0  vip  INTP  20.129444  2024-09-12  21550.0\n",
       "32  id32  25.0   부산  64.0   0  vip  ISFJ  13.049921  2024-05-24  17421.0\n",
       "56  id56  59.0   대구   NaN   1  vip  ESTJ  73.586397  2024-04-05  19589.0\n",
       "83  id83  73.0   경기  50.0   1  vip  ENTP  80.138280  2024-09-26  19139.0"
      ]
     },
     "execution_count": 17,
     "metadata": {},
     "output_type": "execute_result"
    }
   ],
   "source": [
    "line1 = q1-IQR*1.5\n",
    "line2 = q3+IQR*1.5\n",
    "cond1 = df['views'] < line1\n",
    "cond2 = df['views'] > line2\n",
    "df = df[cond1 | cond2]\n",
    "df"
   ]
  },
  {
   "cell_type": "code",
   "execution_count": 18,
   "id": "2db1faed",
   "metadata": {},
   "outputs": [
    {
     "data": {
      "text/plain": [
       "77699"
      ]
     },
     "execution_count": 18,
     "metadata": {},
     "output_type": "execute_result"
    }
   ],
   "source": [
    "int(df['views'].sum())"
   ]
  }
 ],
 "metadata": {
  "kernelspec": {
   "display_name": ".venv",
   "language": "python",
   "name": "python3"
  },
  "language_info": {
   "codemirror_mode": {
    "name": "ipython",
    "version": 3
   },
   "file_extension": ".py",
   "mimetype": "text/x-python",
   "name": "python",
   "nbconvert_exporter": "python",
   "pygments_lexer": "ipython3",
   "version": "3.13.3"
  }
 },
 "nbformat": 4,
 "nbformat_minor": 5
}
