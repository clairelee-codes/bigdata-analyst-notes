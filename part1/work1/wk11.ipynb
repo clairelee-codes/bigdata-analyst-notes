{
 "cells": [
  {
   "cell_type": "markdown",
   "id": "4dda9559",
   "metadata": {},
   "source": [
    "## 11. 슬라이싱, 사분위수, 결측치 제거"
   ]
  },
  {
   "cell_type": "code",
   "execution_count": 1,
   "id": "977d4b54",
   "metadata": {},
   "outputs": [],
   "source": [
    "import pandas as pd\n",
    "\n",
    "df = pd.read_csv(\"data/type1_data1.csv\")"
   ]
  },
  {
   "cell_type": "markdown",
   "id": "d3812536",
   "metadata": {},
   "source": [
    "1. 데이터에서 결측치가 있는 데이터(행)을 모두 제거하시오.\n",
    "2. 결측치가 제거된 데이터를사용하여 앞에서부터 70%데이터를 구하시오 (단, 데이터 70% 지점의 index가 소수점으로 계산될 경우 소수점이하는 버림)\n",
    "3. 앞에서 구한 70% 데이터 중'views'컬럼의 3사분위수에서 1사분위수를 뺀 값을 정수로 구하시오."
   ]
  },
  {
   "cell_type": "code",
   "execution_count": 3,
   "id": "870b1d2c",
   "metadata": {},
   "outputs": [],
   "source": [
    "df.dropna(inplace=True)"
   ]
  },
  {
   "cell_type": "code",
   "execution_count": 14,
   "id": "2dfb015c",
   "metadata": {},
   "outputs": [
    {
     "data": {
      "text/plain": [
       "2771"
      ]
     },
     "execution_count": 14,
     "metadata": {},
     "output_type": "execute_result"
    }
   ],
   "source": [
    "end = int(len(df)*0.7)\n",
    "q3=df.iloc[:end]['views'].quantile(.75)\n",
    "q1=df.iloc[:end]['views'].quantile(.25)\n",
    "int(q3-q1)"
   ]
  }
 ],
 "metadata": {
  "kernelspec": {
   "display_name": "Python 3",
   "language": "python",
   "name": "python3"
  },
  "language_info": {
   "codemirror_mode": {
    "name": "ipython",
    "version": 3
   },
   "file_extension": ".py",
   "mimetype": "text/x-python",
   "name": "python",
   "nbconvert_exporter": "python",
   "pygments_lexer": "ipython3",
   "version": "3.12.0"
  }
 },
 "nbformat": 4,
 "nbformat_minor": 5
}
