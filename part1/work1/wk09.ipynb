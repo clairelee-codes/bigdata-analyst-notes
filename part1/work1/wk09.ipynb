{
 "cells": [
  {
   "cell_type": "markdown",
   "id": "4dda9559",
   "metadata": {},
   "source": [
    "## 09 필터링, 카테고리, 최빈값"
   ]
  },
  {
   "cell_type": "code",
   "execution_count": 38,
   "id": "977d4b54",
   "metadata": {},
   "outputs": [],
   "source": [
    "import pandas as pd\n",
    "\n",
    "df = pd.read_csv(\"data/type1_data1.csv\")"
   ]
  },
  {
   "cell_type": "markdown",
   "id": "d3812536",
   "metadata": {},
   "source": [
    "1. 'views'컬럼 값이 1000 이하인 데이터(결측치 제외)를 찾으시오.\n",
    "2. 앞에서 구한 데이터 중 'f4'컬럼의 최빈값을 구하시오."
   ]
  },
  {
   "cell_type": "code",
   "execution_count": 50,
   "id": "870b1d2c",
   "metadata": {},
   "outputs": [
    {
     "data": {
      "text/plain": [
       "'ISFJ'"
      ]
     },
     "execution_count": 50,
     "metadata": {},
     "output_type": "execute_result"
    }
   ],
   "source": [
    "cond = df['views']<=1000\n",
    "df[cond]['f4'].value_counts().index[0]\n"
   ]
  },
  {
   "cell_type": "code",
   "execution_count": 51,
   "id": "2dfb015c",
   "metadata": {},
   "outputs": [
    {
     "data": {
      "text/plain": [
       "'ISFJ'"
      ]
     },
     "execution_count": 51,
     "metadata": {},
     "output_type": "execute_result"
    }
   ],
   "source": [
    "df[cond]['f4'].mode()[0]"
   ]
  }
 ],
 "metadata": {
  "kernelspec": {
   "display_name": "Python 3",
   "language": "python",
   "name": "python3"
  },
  "language_info": {
   "codemirror_mode": {
    "name": "ipython",
    "version": 3
   },
   "file_extension": ".py",
   "mimetype": "text/x-python",
   "name": "python",
   "nbconvert_exporter": "python",
   "pygments_lexer": "ipython3",
   "version": "3.12.0"
  }
 },
 "nbformat": 4,
 "nbformat_minor": 5
}
