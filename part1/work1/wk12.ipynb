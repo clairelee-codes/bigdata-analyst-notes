{
 "cells": [
  {
   "cell_type": "markdown",
   "id": "4dda9559",
   "metadata": {},
   "source": [
    "## 12. 결측치 처리, 최빈값, 데이터 개수"
   ]
  },
  {
   "cell_type": "code",
   "execution_count": 30,
   "id": "977d4b54",
   "metadata": {},
   "outputs": [],
   "source": [
    "import pandas as pd\n",
    "\n",
    "df = pd.read_csv(\"data/type1_data1.csv\")"
   ]
  },
  {
   "cell_type": "markdown",
   "id": "d3812536",
   "metadata": {},
   "source": [
    "1. 결측치가 가장 많은 두 컬럼을 찾으시오.\n",
    "2. 첫 번째로 결측치가 많은 컬럼에서 결측치가 있는 데이터(행)을 삭제하시오.\n",
    "3. 두 번째로 결측치가 많은 컬럼을 최빈값으로 대체하시오.\n",
    "4. 'f3'컬럼의 'gold'값을 가진 데이터의 수를 정수형으로 구하시오."
   ]
  },
  {
   "cell_type": "code",
   "execution_count": 31,
   "id": "870b1d2c",
   "metadata": {},
   "outputs": [
    {
     "data": {
      "text/plain": [
       "f1    31\n",
       "f3    29\n",
       "dtype: int64"
      ]
     },
     "execution_count": 31,
     "metadata": {},
     "output_type": "execute_result"
    }
   ],
   "source": [
    "df.isnull().sum().nlargest(2)"
   ]
  },
  {
   "cell_type": "code",
   "execution_count": 32,
   "id": "4062ef19",
   "metadata": {},
   "outputs": [
    {
     "data": {
      "text/plain": [
       "id             0\n",
       "age            0\n",
       "city           0\n",
       "f1             0\n",
       "f2             0\n",
       "f3            19\n",
       "f4             0\n",
       "f5             0\n",
       "subscribed     0\n",
       "views          2\n",
       "dtype: int64"
      ]
     },
     "execution_count": 32,
     "metadata": {},
     "output_type": "execute_result"
    }
   ],
   "source": [
    "df.dropna(subset=['f1'],inplace=True)\n",
    "df.isnull().sum()"
   ]
  },
  {
   "cell_type": "code",
   "execution_count": 36,
   "id": "2dfb015c",
   "metadata": {},
   "outputs": [],
   "source": [
    "freq = df['f3'].mode()[0]\n",
    "df['f3'].fillna(freq,inplace=True)"
   ]
  },
  {
   "cell_type": "code",
   "execution_count": 37,
   "id": "9eef90a6",
   "metadata": {},
   "outputs": [
    {
     "data": {
      "text/plain": [
       "63"
      ]
     },
     "execution_count": 37,
     "metadata": {},
     "output_type": "execute_result"
    }
   ],
   "source": [
    "int((df['f3']=='gold').sum())"
   ]
  }
 ],
 "metadata": {
  "kernelspec": {
   "display_name": "Python 3",
   "language": "python",
   "name": "python3"
  },
  "language_info": {
   "codemirror_mode": {
    "name": "ipython",
    "version": 3
   },
   "file_extension": ".py",
   "mimetype": "text/x-python",
   "name": "python",
   "nbconvert_exporter": "python",
   "pygments_lexer": "ipython3",
   "version": "3.12.0"
  }
 },
 "nbformat": 4,
 "nbformat_minor": 5
}
