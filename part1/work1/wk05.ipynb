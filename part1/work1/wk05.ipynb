{
 "cells": [
  {
   "cell_type": "markdown",
   "id": "4dda9559",
   "metadata": {},
   "source": [
    "## 05. 문자열 슬아이싱, 파생변수, 평균값"
   ]
  },
  {
   "cell_type": "code",
   "execution_count": 15,
   "id": "977d4b54",
   "metadata": {},
   "outputs": [],
   "source": [
    "import pandas as pd\n",
    "\n",
    "df = pd.read_csv(\"data/type1_data1.csv\")"
   ]
  },
  {
   "cell_type": "markdown",
   "id": "d3812536",
   "metadata": {},
   "source": [
    "1. 'f4'컬럼 데이터에 'FJ'가 포함된 데이터를 찾으시오.\n",
    "2. 찾은 데이터 중에서 'f2'컬럼의 평균값을 구하시오 (반올림 후 소수 둘때 자리까지 계산)"
   ]
  },
  {
   "cell_type": "code",
   "execution_count": 11,
   "id": "870b1d2c",
   "metadata": {},
   "outputs": [
    {
     "data": {
      "text/plain": [
       "0.61"
      ]
     },
     "execution_count": 11,
     "metadata": {},
     "output_type": "execute_result"
    }
   ],
   "source": [
    "cond = df['f4'].str.contains('FJ')\n",
    "round(df[cond]['f2'].mean(),2)\n"
   ]
  },
  {
   "cell_type": "code",
   "execution_count": 16,
   "id": "030b0050",
   "metadata": {},
   "outputs": [
    {
     "data": {
      "text/plain": [
       "0.61"
      ]
     },
     "execution_count": 16,
     "metadata": {},
     "output_type": "execute_result"
    }
   ],
   "source": [
    "df['new'] = df['f4'].str[2:4]\n",
    "cond = df['new']=='FJ'\n",
    "df = df[cond]\n",
    "round(df['f2'].mean(),2)\n"
   ]
  }
 ],
 "metadata": {
  "kernelspec": {
   "display_name": "Python 3",
   "language": "python",
   "name": "python3"
  },
  "language_info": {
   "codemirror_mode": {
    "name": "ipython",
    "version": 3
   },
   "file_extension": ".py",
   "mimetype": "text/x-python",
   "name": "python",
   "nbconvert_exporter": "python",
   "pygments_lexer": "ipython3",
   "version": "3.12.0"
  }
 },
 "nbformat": 4,
 "nbformat_minor": 5
}
