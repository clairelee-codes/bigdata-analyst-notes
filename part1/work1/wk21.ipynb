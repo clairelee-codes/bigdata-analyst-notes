{
 "cells": [
  {
   "cell_type": "markdown",
   "id": "4dda9559",
   "metadata": {},
   "source": [
    "## 21. 시간 간의 차이 계산(분), 필터링"
   ]
  },
  {
   "cell_type": "code",
   "execution_count": 22,
   "id": "977d4b54",
   "metadata": {},
   "outputs": [
    {
     "data": {
      "text/html": [
       "<div>\n",
       "<style scoped>\n",
       "    .dataframe tbody tr th:only-of-type {\n",
       "        vertical-align: middle;\n",
       "    }\n",
       "\n",
       "    .dataframe tbody tr th {\n",
       "        vertical-align: top;\n",
       "    }\n",
       "\n",
       "    .dataframe thead th {\n",
       "        text-align: right;\n",
       "    }\n",
       "</style>\n",
       "<table border=\"1\" class=\"dataframe\">\n",
       "  <thead>\n",
       "    <tr style=\"text-align: right;\">\n",
       "      <th></th>\n",
       "      <th>주문시간</th>\n",
       "      <th>실제도착시간</th>\n",
       "      <th>예상도착시간</th>\n",
       "      <th>앱종류</th>\n",
       "      <th>거리</th>\n",
       "      <th>결제종류</th>\n",
       "      <th>user</th>\n",
       "    </tr>\n",
       "  </thead>\n",
       "  <tbody>\n",
       "    <tr>\n",
       "      <th>0</th>\n",
       "      <td>2023-07-26 08:05:49</td>\n",
       "      <td>2023-07-26 09:14:06</td>\n",
       "      <td>2023-07-26 08:39:42</td>\n",
       "      <td>여기여</td>\n",
       "      <td>1.93</td>\n",
       "      <td>카드</td>\n",
       "      <td>user_275</td>\n",
       "    </tr>\n",
       "    <tr>\n",
       "      <th>1</th>\n",
       "      <td>2022-11-07 10:21:54</td>\n",
       "      <td>2022-11-07 10:44:04</td>\n",
       "      <td>2022-11-07 10:50:15</td>\n",
       "      <td>배고팡</td>\n",
       "      <td>5.19</td>\n",
       "      <td>카드</td>\n",
       "      <td>user_360</td>\n",
       "    </tr>\n",
       "    <tr>\n",
       "      <th>2</th>\n",
       "      <td>2023-04-18 05:00:57</td>\n",
       "      <td>2023-04-18 06:12:46</td>\n",
       "      <td>2023-04-18 05:32:53</td>\n",
       "      <td>배고팡</td>\n",
       "      <td>13.85</td>\n",
       "      <td>카드</td>\n",
       "      <td>user_36</td>\n",
       "    </tr>\n",
       "    <tr>\n",
       "      <th>3</th>\n",
       "      <td>2023-08-18 10:46:28</td>\n",
       "      <td>2023-08-18 11:16:25</td>\n",
       "      <td>2023-08-18 11:08:33</td>\n",
       "      <td>배고팡</td>\n",
       "      <td>10.90</td>\n",
       "      <td>앱결제</td>\n",
       "      <td>user_65</td>\n",
       "    </tr>\n",
       "    <tr>\n",
       "      <th>4</th>\n",
       "      <td>2023-08-11 09:58:27</td>\n",
       "      <td>2023-08-11 11:27:57</td>\n",
       "      <td>2023-08-11 10:51:57</td>\n",
       "      <td>여기여</td>\n",
       "      <td>14.96</td>\n",
       "      <td>카드</td>\n",
       "      <td>user_176</td>\n",
       "    </tr>\n",
       "  </tbody>\n",
       "</table>\n",
       "</div>"
      ],
      "text/plain": [
       "                  주문시간               실제도착시간               예상도착시간  앱종류     거리  \\\n",
       "0  2023-07-26 08:05:49  2023-07-26 09:14:06  2023-07-26 08:39:42  여기여   1.93   \n",
       "1  2022-11-07 10:21:54  2022-11-07 10:44:04  2022-11-07 10:50:15  배고팡   5.19   \n",
       "2  2023-04-18 05:00:57  2023-04-18 06:12:46  2023-04-18 05:32:53  배고팡  13.85   \n",
       "3  2023-08-18 10:46:28  2023-08-18 11:16:25  2023-08-18 11:08:33  배고팡  10.90   \n",
       "4  2023-08-11 09:58:27  2023-08-11 11:27:57  2023-08-11 10:51:57  여기여  14.96   \n",
       "\n",
       "  결제종류      user  \n",
       "0   카드  user_275  \n",
       "1   카드  user_360  \n",
       "2   카드   user_36  \n",
       "3  앱결제   user_65  \n",
       "4   카드  user_176  "
      ]
     },
     "execution_count": 22,
     "metadata": {},
     "output_type": "execute_result"
    }
   ],
   "source": [
    "import pandas as pd\n",
    "\n",
    "df = pd.read_csv(\"data/delivery_time.csv\")\n",
    "df.head()"
   ]
  },
  {
   "cell_type": "markdown",
   "id": "d3812536",
   "metadata": {},
   "source": [
    "1. 예상 도착 시간보다 늦게 도착한 건수를 구하시오.\n",
    "2. 이 중 거리가 7km 이상인 데이터의 수를 정수로 구하시오."
   ]
  },
  {
   "cell_type": "code",
   "execution_count": 23,
   "id": "870b1d2c",
   "metadata": {},
   "outputs": [],
   "source": [
    "df['예상도착시간'] = pd.to_datetime(df['예상도착시간'])\n",
    "df['실제도착시간']= pd.to_datetime(df['실제도착시간'])\n",
    "df['지연시간'] = (df['실제도착시간']-df['예상도착시간']).dt.total_seconds()/60\n",
    "cond1 = df['지연시간'] > 0"
   ]
  },
  {
   "cell_type": "code",
   "execution_count": 24,
   "id": "be37cbd7",
   "metadata": {},
   "outputs": [
    {
     "data": {
      "text/plain": [
       "311"
      ]
     },
     "execution_count": 24,
     "metadata": {},
     "output_type": "execute_result"
    }
   ],
   "source": [
    "cond2 = df['거리'] >= 7\n",
    "len(df[cond1&cond2])"
   ]
  }
 ],
 "metadata": {
  "kernelspec": {
   "display_name": "Python 3",
   "language": "python",
   "name": "python3"
  },
  "language_info": {
   "codemirror_mode": {
    "name": "ipython",
    "version": 3
   },
   "file_extension": ".py",
   "mimetype": "text/x-python",
   "name": "python",
   "nbconvert_exporter": "python",
   "pygments_lexer": "ipython3",
   "version": "3.12.0"
  }
 },
 "nbformat": 4,
 "nbformat_minor": 5
}
