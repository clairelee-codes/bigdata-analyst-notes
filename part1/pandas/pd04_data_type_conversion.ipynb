{
 "cells": [
  {
   "cell_type": "markdown",
   "id": "89493674",
   "metadata": {},
   "source": [
    "## pd04. 자료형 변환"
   ]
  },
  {
   "cell_type": "code",
   "execution_count": 11,
   "id": "2e2b8f0c",
   "metadata": {},
   "outputs": [
    {
     "name": "stdout",
     "output_type": "stream",
     "text": [
      "<class 'pandas.core.frame.DataFrame'>\n",
      "RangeIndex: 7 entries, 0 to 6\n",
      "Data columns (total 3 columns):\n",
      " #   Column  Non-Null Count  Dtype  \n",
      "---  ------  --------------  -----  \n",
      " 0   메뉴      7 non-null      object \n",
      " 1   가격      7 non-null      float64\n",
      " 2   칼로리     7 non-null      int64  \n",
      "dtypes: float64(1), int64(1), object(1)\n",
      "memory usage: 300.0+ bytes\n"
     ]
    }
   ],
   "source": [
    "import pandas as pd\n",
    "\n",
    "data = {\n",
    "    \"메뉴\": ['아메리카노', '카페라떼', '카페모카', '카푸치노', '에스프레소', '밀크티', '녹차'],\n",
    "    \"가격\":[4500.0,5000.0,5500.0,5000.0,4000.0,5900.0,5300.0],\n",
    "    \"칼로리\":[10,110,250,110,20,210,0]\n",
    "}\n",
    "\n",
    "df = pd.DataFrame(data)\n",
    "df.info()"
   ]
  },
  {
   "cell_type": "markdown",
   "id": "5b874e30",
   "metadata": {},
   "source": [
    "### 1. int로 변환"
   ]
  },
  {
   "cell_type": "code",
   "execution_count": 12,
   "id": "e2657296",
   "metadata": {},
   "outputs": [
    {
     "name": "stdout",
     "output_type": "stream",
     "text": [
      "<class 'pandas.core.frame.DataFrame'>\n",
      "RangeIndex: 7 entries, 0 to 6\n",
      "Data columns (total 3 columns):\n",
      " #   Column  Non-Null Count  Dtype \n",
      "---  ------  --------------  ----- \n",
      " 0   메뉴      7 non-null      object\n",
      " 1   가격      7 non-null      int64 \n",
      " 2   칼로리     7 non-null      int64 \n",
      "dtypes: int64(2), object(1)\n",
      "memory usage: 300.0+ bytes\n"
     ]
    }
   ],
   "source": [
    "df['가격'] = df['가격'].astype('int')\n",
    "df.info()"
   ]
  },
  {
   "cell_type": "markdown",
   "id": "e534e7bf",
   "metadata": {},
   "source": [
    "2. float로 변환"
   ]
  },
  {
   "cell_type": "code",
   "execution_count": 13,
   "id": "e48a843e",
   "metadata": {},
   "outputs": [
    {
     "name": "stdout",
     "output_type": "stream",
     "text": [
      "<class 'pandas.core.frame.DataFrame'>\n",
      "RangeIndex: 7 entries, 0 to 6\n",
      "Data columns (total 3 columns):\n",
      " #   Column  Non-Null Count  Dtype  \n",
      "---  ------  --------------  -----  \n",
      " 0   메뉴      7 non-null      object \n",
      " 1   가격      7 non-null      int64  \n",
      " 2   칼로리     7 non-null      float64\n",
      "dtypes: float64(1), int64(1), object(1)\n",
      "memory usage: 300.0+ bytes\n"
     ]
    }
   ],
   "source": [
    "df['칼로리'] = df['칼로리'].astype('float')\n",
    "df.info()"
   ]
  }
 ],
 "metadata": {
  "kernelspec": {
   "display_name": ".venv",
   "language": "python",
   "name": "python3"
  },
  "language_info": {
   "codemirror_mode": {
    "name": "ipython",
    "version": 3
   },
   "file_extension": ".py",
   "mimetype": "text/x-python",
   "name": "python",
   "nbconvert_exporter": "python",
   "pygments_lexer": "ipython3",
   "version": "3.13.3"
  }
 },
 "nbformat": 4,
 "nbformat_minor": 5
}
